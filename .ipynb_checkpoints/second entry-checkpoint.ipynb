{
 "cells": [
  {
   "cell_type": "markdown",
   "metadata": {
    "urth": {
     "dashboard": {
      "layout": {
       "col": 0,
       "height": 3,
       "row": 0,
       "width": 12
      }
     }
    }
   },
   "source": [
    "## Getting Started: Analyzing Yelp Data"
   ]
  },
  {
   "cell_type": "code",
   "execution_count": null,
   "metadata": {
    "collapsed": false,
    "urth": {
     "dashboard": {
      "layout": {
       "col": 4,
       "height": 20,
       "row": 59,
       "width": 4
      }
     }
    }
   },
   "outputs": [],
   "source": [
    "%%read s3  --as yelp_biz --cache True\n",
    "path: ps-samples/yelp/businesses/json\n",
    "format: json"
   ]
  },
  {
   "cell_type": "code",
   "execution_count": null,
   "metadata": {
    "collapsed": false,
    "urth": {
     "dashboard": {
      "layout": {
       "col": 8,
       "height": 8,
       "row": 59,
       "width": 4
      }
     }
    }
   },
   "outputs": [],
   "source": [
    "%%sql\n",
    "SELECT name,city,stars,review_count\n",
    "FROM yelp_biz\n",
    "WHERE stars > 3.5\n",
    "SORT BY review_count DESC \n",
    "LIMIT 5"
   ]
  },
  {
   "cell_type": "code",
   "execution_count": null,
   "metadata": {
    "collapsed": false,
    "urth": {
     "dashboard": {}
    }
   },
   "outputs": [],
   "source": [
    "%%sql -a nevada_yelp_biz\n",
    "SELECT state, city, sum(review_count) as totalreviews\n",
    "FROM yelp_biz\n",
    "where attributes.`Good For`.dinner = true \n",
    "GROUP By state, city\n",
    "ORDER By totalreviews desc"
   ]
  },
  {
   "cell_type": "code",
   "execution_count": null,
   "metadata": {
    "collapsed": false,
    "urth": {
     "dashboard": {
      "layout": {
       "col": 0,
       "height": 15,
       "row": 7,
       "width": 7
      }
     }
    }
   },
   "outputs": [],
   "source": [
    "%%plot bar --data nevada_yelp_biz  --limit 20 \n",
    "x : city\n",
    "y : totalreviews\n",
    "xTitle : city\n",
    "yTitle : Total Reviews\n",
    "title : Yelp Reviews Count By City\n",
    "layout:\n",
    "    height : 500"
   ]
  },
  {
   "cell_type": "markdown",
   "metadata": {
    "urth": {
     "dashboard": {
      "layout": {
       "col": 0,
       "height": 5,
       "row": 38,
       "width": 10
      }
     }
    }
   },
   "source": [
    "### We can do all of the above code as a single line python code too"
   ]
  },
  {
   "cell_type": "code",
   "execution_count": null,
   "metadata": {
    "collapsed": false,
    "urth": {
     "dashboard": {
      "layout": {
       "col": 0,
       "height": 16,
       "row": 22,
       "width": 7
      }
     }
    }
   },
   "outputs": [],
   "source": [
    "read(kind=\"s3\", path=\"ps-samples/yelp/businesses/json\", format=\"json\" ,cache=True)\\\n",
    ".groupBy(\"city\")\\\n",
    ".agg(sum(\"review_count\").alias(\"totalreviews\"))\\\n",
    ".sort(desc(\"totalreviews\"))\\\n",
    ".plot(kind=\"bar\", barmode=\"stack\", limit=20, x=\"city\", y=[\"totalreviews\"], \n",
    "      xTitle = \"City\", yTitle=\"Total Reviews\", title=\"Yelp Reviews Count By City\")"
   ]
  },
  {
   "cell_type": "code",
   "execution_count": null,
   "metadata": {
    "collapsed": false,
    "urth": {
     "dashboard": {
      "layout": {
       "col": 0,
       "height": 16,
       "row": 43,
       "width": 12
      }
     }
    }
   },
   "outputs": [],
   "source": [
    "table(\"yelp_biz\").groupBy(\"stars\").agg({\"*\": \"count\"}).sort(\"stars\").plot(kind=\"scatter\",x=\"stars\",y=\"count(1)\")"
   ]
  },
  {
   "cell_type": "markdown",
   "metadata": {
    "urth": {
     "dashboard": {
      "layout": {
       "col": 0,
       "height": 4,
       "row": 3,
       "width": 12
      }
     }
    }
   },
   "source": [
    "### Working with multiple data sources together"
   ]
  },
  {
   "cell_type": "code",
   "execution_count": null,
   "metadata": {
    "collapsed": false,
    "urth": {
     "dashboard": {
      "layout": {
       "col": 0,
       "height": 15,
       "row": 67,
       "width": 4
      }
     }
    }
   },
   "outputs": [],
   "source": [
    "%%read s3 --as yelp_user --cache True\n",
    "path : ps-samples/yelp/users/json \n",
    "format: json"
   ]
  },
  {
   "cell_type": "code",
   "execution_count": null,
   "metadata": {
    "collapsed": false,
    "urth": {
     "dashboard": {
      "layout": {
       "col": 7,
       "height": 15,
       "row": 7,
       "width": 4
      }
     }
    }
   },
   "outputs": [],
   "source": [
    "%%read s3 --as yelp_review \n",
    "path: ps-samples/yelp/reviews/json\n",
    "format: json"
   ]
  },
  {
   "cell_type": "code",
   "execution_count": null,
   "metadata": {
    "collapsed": false,
    "urth": {
     "dashboard": {
      "layout": {
       "col": 0,
       "height": 8,
       "row": 59,
       "width": 4
      }
     }
    }
   },
   "outputs": [],
   "source": [
    "%%sql \n",
    "SELECT yelp_biz.business_id, yelp_biz.city, \n",
    "       yelp_review.text, yelp_review.stars, yelp_review.date \n",
    "FROM yelp_biz \n",
    "JOIN yelp_review ON (yelp_biz.business_id = yelp_review.business_id) \n",
    "LIMIT 3"
   ]
  },
  {
   "cell_type": "code",
   "execution_count": null,
   "metadata": {
    "collapsed": false,
    "urth": {
     "dashboard": {
      "layout": {
       "col": 4,
       "height": 14,
       "row": 79,
       "width": 7
      }
     }
    }
   },
   "outputs": [],
   "source": [
    "%%sql \n",
    "SELECT yelp_biz.name,yelp_biz.city,yelp_biz.review_count,\n",
    "       yelp_review.text, yelp_review.stars, yelp_review.date, yelp_user.average_stars, \n",
    "       yelp_user.review_count, yelp_user.fans\n",
    "FROM yelp_biz \n",
    "JOIN yelp_review ON (yelp_biz.business_id = yelp_review.business_id) \n",
    "JOIN yelp_user ON (yelp_user.user_id = yelp_review.user_id)  \n",
    "LIMIT 3"
   ]
  },
  {
   "cell_type": "code",
   "execution_count": null,
   "metadata": {
    "collapsed": true,
    "urth": {
     "dashboard": {}
    }
   },
   "outputs": [],
   "source": [
    "registerFunction(\"hasFourParts\", lambda x: len(x.split(\" \")) >= 4,  BooleanType())"
   ]
  },
  {
   "cell_type": "code",
   "execution_count": null,
   "metadata": {
    "collapsed": false,
    "urth": {
     "dashboard": {
      "layout": {
       "col": 4,
       "height": 19,
       "row": 93,
       "width": 4
      }
     }
    }
   },
   "outputs": [],
   "source": [
    "%%sql\n",
    "SELECT name,stars,city,review_count \n",
    "FROM yelp_biz \n",
    "WHERE hasFourParts(name)\n",
    "SORT BY review_count \n",
    "DESC LIMIT 10"
   ]
  },
  {
   "cell_type": "markdown",
   "metadata": {
    "urth": {
     "dashboard": {
      "layout": {
       "col": 8,
       "height": 4,
       "row": 93,
       "width": 4
      }
     }
    }
   },
   "source": [
    "## Machine learning"
   ]
  },
  {
   "cell_type": "code",
   "execution_count": null,
   "metadata": {
    "collapsed": true,
    "urth": {
     "dashboard": {}
    }
   },
   "outputs": [],
   "source": [
    "bin = Binarizer(inputCol = \"stars\", outputCol = \"label\", threshold = 3.5)\n",
    "tok = Tokenizer(inputCol = \"text\", outputCol = \"words\")\n",
    "hashTF = HashingTF(inputCol = tok.getOutputCol(), numFeatures = 10000, outputCol = \"features\")\n",
    "lr = LogisticRegression(maxIter = 10, regParam = 0.0001, elasticNetParam = 1.0)\n",
    "pipeline = Pipeline(stages = [bin, tok, hashTF, lr])"
   ]
  },
  {
   "cell_type": "code",
   "execution_count": null,
   "metadata": {
    "collapsed": false,
    "urth": {
     "dashboard": {}
    }
   },
   "outputs": [],
   "source": [
    "preppedReviews = table(\"yelp_review\").limit(100).map(lambda row: Row(text=row.text, stars=float(row.stars))).toDF()"
   ]
  },
  {
   "cell_type": "code",
   "execution_count": null,
   "metadata": {
    "collapsed": true,
    "urth": {
     "dashboard": {}
    }
   },
   "outputs": [],
   "source": [
    "model = pipeline.fit(preppedReviews)"
   ]
  },
  {
   "cell_type": "code",
   "execution_count": null,
   "metadata": {
    "collapsed": false,
    "urth": {
     "dashboard": {
      "layout": {
       "col": 0,
       "height": 45,
       "row": 82,
       "width": 4
      }
     }
    }
   },
   "outputs": [],
   "source": [
    "model.transform(preppedReviews).select(\"label\",\"prediction\",\"probability\",\"stars\",\"text\").plot(limit=20)"
   ]
  },
  {
   "cell_type": "markdown",
   "metadata": {
    "urth": {
     "dashboard": {
      "layout": {
       "col": 8,
       "height": 4,
       "row": 97,
       "width": 4
      }
     }
    }
   },
   "source": [
    "## Custom ETL"
   ]
  },
  {
   "cell_type": "code",
   "execution_count": null,
   "metadata": {
    "collapsed": false,
    "urth": {
     "dashboard": {}
    }
   },
   "outputs": [],
   "source": [
    "words = table(\"yelp_review\").limit(1000).select(\"text\").flatMap(lambda row: row.text.split(\" \")).map(lambda w: Row(word=w, cnt=1)).toDF()"
   ]
  },
  {
   "cell_type": "code",
   "execution_count": null,
   "metadata": {
    "collapsed": false,
    "urth": {
     "dashboard": {
      "layout": {
       "col": 8,
       "height": 13,
       "row": 101,
       "width": 4
      }
     }
    }
   },
   "outputs": [],
   "source": [
    "words.groupBy(\"word\").sum().orderBy(desc(\"SUM(cnt)\")).plot(limit=10)"
   ]
  },
  {
   "cell_type": "markdown",
   "metadata": {
    "urth": {
     "dashboard": {
      "layout": {
       "col": 4,
       "height": 4,
       "row": 112,
       "width": 4
      }
     }
    }
   },
   "source": [
    "## Other Magics"
   ]
  },
  {
   "cell_type": "code",
   "execution_count": null,
   "metadata": {
    "collapsed": false,
    "urth": {
     "dashboard": {
      "layout": {
       "col": 8,
       "height": 7,
       "row": 114,
       "width": 4
      }
     }
    }
   },
   "outputs": [],
   "source": [
    "%%tables"
   ]
  },
  {
   "cell_type": "code",
   "execution_count": null,
   "metadata": {
    "collapsed": false,
    "urth": {
     "dashboard": {
      "layout": {
       "col": 4,
       "height": 20,
       "row": 116,
       "width": 4
      }
     }
    }
   },
   "outputs": [],
   "source": [
    "%%schema -d yelp_biz"
   ]
  },
  {
   "cell_type": "code",
   "execution_count": null,
   "metadata": {
    "collapsed": false,
    "urth": {
     "dashboard": {
      "layout": {
       "col": 8,
       "height": 5,
       "row": 121,
       "width": 4
      }
     }
    }
   },
   "outputs": [],
   "source": [
    "%%read redshift\n",
    "path"
   ]
  },
  {
   "cell_type": "code",
   "execution_count": null,
   "metadata": {
    "collapsed": false,
    "urth": {
     "dashboard": {
      "layout": {
       "col": 8,
       "height": 24,
       "row": 126,
       "width": 4
      }
     }
    }
   },
   "outputs": [],
   "source": [
    "%%s3"
   ]
  },
  {
   "cell_type": "code",
   "execution_count": null,
   "metadata": {
    "collapsed": true,
    "urth": {
     "dashboard": {}
    }
   },
   "outputs": [],
   "source": []
  }
 ],
 "metadata": {
  "kernelspec": {
   "display_name": "Python [Root]",
   "language": "python",
   "name": "Python [Root]"
  },
  "language_info": {
   "codemirror_mode": {
    "name": "ipython",
    "version": 2
   },
   "file_extension": ".py",
   "mimetype": "text/x-python",
   "name": "python",
   "nbconvert_exporter": "python",
   "pygments_lexer": "ipython2",
   "version": "2.7.11"
  }
 },
 "nbformat": 4,
 "nbformat_minor": 0
}
